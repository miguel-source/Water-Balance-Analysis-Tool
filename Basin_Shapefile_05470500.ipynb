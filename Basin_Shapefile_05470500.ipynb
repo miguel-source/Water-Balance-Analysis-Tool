{
 "cells": [
  {
   "cell_type": "markdown",
   "id": "7c2e87a7",
   "metadata": {},
   "source": [
    "\n",
    "# Extract USGS Gage Basin Polygon (NLDI) and Save as Shapefile — Site 05470500\n",
    "\n",
    "This notebook uses the **USGS NLDI** (Hydrologic Network Linked Data Index) via the Python package **`pynhd`** to fetch the watershed **basin polygon** upstream of a USGS stream gage and saves it to a **Shapefile** for GIS use.\n",
    "\n",
    "**What this does**\n",
    "1. Install/import `pynhd` and `geopandas`.\n",
    "2. Query NLDI for the **basin** of site **05470500**.\n",
    "3. Reproject to a **projected CRS** for accurate area calculations.\n",
    "4. Save to **ESRI Shapefile** (and optional GeoJSON), ready for your GitHub repo.\n",
    "5. Quick map preview and area sanity check.\n"
   ]
  },
  {
   "cell_type": "markdown",
   "id": "04c85b7e",
   "metadata": {},
   "source": [
    "## 1) Install requirements (run once if needed)"
   ]
  },
  {
   "cell_type": "code",
   "execution_count": 1,
   "id": "f9acf4cb",
   "metadata": {},
   "outputs": [],
   "source": [
    "\n",
    "# If needed in a fresh environment, uncomment:\n",
    "# !pip install --upgrade pip\n",
    "# !pip install pynhd geopandas shapely pyproj fiona\n"
   ]
  },
  {
   "cell_type": "markdown",
   "id": "2a0860d5",
   "metadata": {},
   "source": [
    "## 2) Parameters"
   ]
  },
  {
   "cell_type": "code",
   "execution_count": 2,
   "id": "e7dce8f6",
   "metadata": {},
   "outputs": [],
   "source": [
    "\n",
    "from pathlib import Path\n",
    "\n",
    "# USGS site number\n",
    "SITE = \"05470500\"\n",
    "\n",
    "# Output directory & filenames (Shapefile consists of multiple files with this stem)\n",
    "OUT_DIR = Path(\"basin_shapefile\")\n",
    "OUT_STEM = f\"basin_{SITE}\"\n",
    "\n",
    "# Optional: also write GeoJSON\n",
    "WRITE_GEOJSON = True\n"
   ]
  },
  {
   "cell_type": "markdown",
   "id": "429f5ee6",
   "metadata": {},
   "source": [
    "## 3) Imports"
   ]
  },
  {
   "cell_type": "code",
   "execution_count": 3,
   "id": "8fd9d65c",
   "metadata": {},
   "outputs": [],
   "source": [
    "\n",
    "import geopandas as gpd\n",
    "from pynhd import NLDI\n",
    "from pyproj import CRS\n",
    "import warnings\n",
    "\n",
    "warnings.filterwarnings(\"ignore\", category=UserWarning)\n"
   ]
  },
  {
   "cell_type": "markdown",
   "id": "36a38d96",
   "metadata": {},
   "source": [
    "## 4) Fetch basin polygon from NLDI"
   ]
  },
  {
   "cell_type": "code",
   "execution_count": 4,
   "id": "a9256a56",
   "metadata": {},
   "outputs": [
    {
     "data": {
      "text/html": [
       "<div>\n",
       "<style scoped>\n",
       "    .dataframe tbody tr th:only-of-type {\n",
       "        vertical-align: middle;\n",
       "    }\n",
       "\n",
       "    .dataframe tbody tr th {\n",
       "        vertical-align: top;\n",
       "    }\n",
       "\n",
       "    .dataframe thead th {\n",
       "        text-align: right;\n",
       "    }\n",
       "</style>\n",
       "<table border=\"1\" class=\"dataframe\">\n",
       "  <thead>\n",
       "    <tr style=\"text-align: right;\">\n",
       "      <th></th>\n",
       "      <th>geometry</th>\n",
       "    </tr>\n",
       "    <tr>\n",
       "      <th>identifier</th>\n",
       "      <th></th>\n",
       "    </tr>\n",
       "  </thead>\n",
       "  <tbody>\n",
       "    <tr>\n",
       "      <th>USGS-05470500</th>\n",
       "      <td>POLYGON ((-93.68428 42.0064, -93.68673 42.0089...</td>\n",
       "    </tr>\n",
       "  </tbody>\n",
       "</table>\n",
       "</div>"
      ],
      "text/plain": [
       "                                                        geometry\n",
       "identifier                                                      \n",
       "USGS-05470500  POLYGON ((-93.68428 42.0064, -93.68673 42.0089..."
      ]
     },
     "execution_count": 4,
     "metadata": {},
     "output_type": "execute_result"
    }
   ],
   "source": [
    "\n",
    "# NLDI client\n",
    "nldi = NLDI()\n",
    "\n",
    "# get_basins returns a GeoDataFrame of the upstream basin polygon for the site\n",
    "basin_gdf = nldi.get_basins(SITE)\n",
    "\n",
    "if basin_gdf is None or basin_gdf.empty:\n",
    "    raise RuntimeError(f\"No basin polygon returned by NLDI for site {SITE}. Check the site ID or NLDI availability.\")\n",
    "\n",
    "# Ensure WGS84 lon/lat for the raw geometry\n",
    "basin_wgs84 = basin_gdf.to_crs(4326)\n",
    "basin_wgs84.head()\n"
   ]
  },
  {
   "cell_type": "markdown",
   "id": "10c5bd0f",
   "metadata": {},
   "source": [
    "## 5) Reproject to a projected CRS and compute area"
   ]
  },
  {
   "cell_type": "code",
   "execution_count": 5,
   "id": "d6c472f4",
   "metadata": {},
   "outputs": [
    {
     "data": {
      "text/html": [
       "<div>\n",
       "<style scoped>\n",
       "    .dataframe tbody tr th:only-of-type {\n",
       "        vertical-align: middle;\n",
       "    }\n",
       "\n",
       "    .dataframe tbody tr th {\n",
       "        vertical-align: top;\n",
       "    }\n",
       "\n",
       "    .dataframe thead th {\n",
       "        text-align: right;\n",
       "    }\n",
       "</style>\n",
       "<table border=\"1\" class=\"dataframe\">\n",
       "  <thead>\n",
       "    <tr style=\"text-align: right;\">\n",
       "      <th></th>\n",
       "      <th>area_km2</th>\n",
       "    </tr>\n",
       "    <tr>\n",
       "      <th>identifier</th>\n",
       "      <th></th>\n",
       "    </tr>\n",
       "  </thead>\n",
       "  <tbody>\n",
       "    <tr>\n",
       "      <th>USGS-05470500</th>\n",
       "      <td>548.408129</td>\n",
       "    </tr>\n",
       "  </tbody>\n",
       "</table>\n",
       "</div>"
      ],
      "text/plain": [
       "                 area_km2\n",
       "identifier               \n",
       "USGS-05470500  548.408129"
      ]
     },
     "execution_count": 5,
     "metadata": {},
     "output_type": "execute_result"
    }
   ],
   "source": [
    "\n",
    "# For CONUS, EPSG:5070 (NAD83 / Conus Albers) is a good equal-area choice\n",
    "proj_crs = CRS.from_epsg(5070)\n",
    "basin_proj = basin_wgs84.to_crs(proj_crs)\n",
    "\n",
    "# Compute area in square kilometers for a quick check\n",
    "basin_proj[\"area_km2\"] = basin_proj.geometry.area / 1e6\n",
    "basin_proj[[\"area_km2\"]]\n"
   ]
  },
  {
   "cell_type": "markdown",
   "id": "c8162abb",
   "metadata": {},
   "source": [
    "## 6) Save to Shapefile (and optional GeoJSON)"
   ]
  },
  {
   "cell_type": "code",
   "execution_count": 6,
   "id": "b6530ded",
   "metadata": {},
   "outputs": [
    {
     "name": "stdout",
     "output_type": "stream",
     "text": [
      "Saved Shapefile to: D:\\Desktop-OneDrive\\OpenET_Paper\\GitHub\\basin_shapefile\\basin_05470500.shp\n",
      "Saved GeoJSON to: D:\\Desktop-OneDrive\\OpenET_Paper\\GitHub\\basin_shapefile\\basin_05470500.geojson\n"
     ]
    }
   ],
   "source": [
    "\n",
    "OUT_DIR.mkdir(parents=True, exist_ok=True)\n",
    "\n",
    "# Shapefile path (multiple sidecar files with this stem will be created)\n",
    "shp_path = OUT_DIR / f\"{OUT_STEM}.shp\"\n",
    "basin_proj.to_file(shp_path, driver=\"ESRI Shapefile\")\n",
    "print(\"Saved Shapefile to:\", shp_path.resolve())\n",
    "\n",
    "if WRITE_GEOJSON:\n",
    "    geojson_path = OUT_DIR / f\"{OUT_STEM}.geojson\"\n",
    "    basin_wgs84.to_file(geojson_path, driver=\"GeoJSON\")  # keep GeoJSON in WGS84\n",
    "    print(\"Saved GeoJSON to:\", geojson_path.resolve())\n"
   ]
  },
  {
   "cell_type": "markdown",
   "id": "9a4ade7a",
   "metadata": {},
   "source": [
    "## 7) Quick map preview"
   ]
  },
  {
   "cell_type": "code",
   "execution_count": 7,
   "id": "8b72d4ba",
   "metadata": {},
   "outputs": [
    {
     "data": {
      "image/png": "[encoded data removed]",
      "text/plain": [
       "<Figure size 600x600 with 1 Axes>"
      ]
     },
     "metadata": {},
     "output_type": "display_data"
    }
   ],
   "source": [
    "\n",
    "ax = basin_wgs84.plot(figsize=(6, 6), edgecolor='k', facecolor='lightblue')\n",
    "ax.set_title(f\"NLDI Basin for USGS {SITE} (WGS84)\")\n",
    "ax.set_axis_off()\n"
   ]
  },
  {
   "cell_type": "markdown",
   "id": "39673e7e",
   "metadata": {},
   "source": [
    "\n",
    "## 8) Notes & Tips\n",
    "- **Why EPSG:5070?** It's an equal-area projection suitable for CONUS; area calculations in meters² are reliable.  \n",
    "- **Local CRS:** For engineering design, you may reproject to a local UTM zone (`EPSG:26915` for Iowa UTM 15N is common).  \n",
    "- **Attributes:** NLDI typically includes basic metadata; you can add your own fields (e.g., `site_no`, `name`).  \n",
    "- **Automation:** Wrap these steps into a script for batch processi and the corresponding repository\n"
   ]
  },
  {
   "cell_type": "markdown",
   "id": "0d0b47e4",
   "metadata": {},
   "source": []
  }
 ],
 "metadata": {
  "kernelspec": {
   "display_name": "CONUS404_test",
   "language": "python",
   "name": "python3"
  },
  "language_info": {
   "codemirror_mode": {
    "name": "ipython",
    "version": 3
   },
   "file_extension": ".py",
   "mimetype": "text/x-python",
   "name": "python",
   "nbconvert_exporter": "python",
   "pygments_lexer": "ipython3",
   "version": "3.10.16"
  }
 },
 "nbformat": 4,
 "nbformat_minor": 5
}
