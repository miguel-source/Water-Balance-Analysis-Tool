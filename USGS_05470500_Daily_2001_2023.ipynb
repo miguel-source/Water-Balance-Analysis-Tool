{
 "cells": [
  {
   "cell_type": "markdown",
   "id": "c2928d5e",
   "metadata": {},
   "source": [
    "\n",
    "# USGS Daily Streamflow Downloader — Site 05470500 (2001–2023)\n",
    "\n",
    "This notebook downloads **USGS daily streamflow** (parameter **00060**, mean daily **00003**) for site **05470500** using the **NWIS Daily Values** service via the `hydrofunctions` package, saves it to CSV, and creates quick QA plots.\n",
    "\n",
    "**You will:**\n",
    "1. Install and import dependencies.\n",
    "2. Set parameters (site ID and dates).\n",
    "3. Fetch daily discharge data from NWIS.\n",
    "4. Save a clean CSV with both **cfs** and **m³/s**.\n",
    "5. Plot a hydrograph and compute simple annual summaries.\n"
   ]
  },
  {
   "cell_type": "markdown",
   "id": "0eb3edb1",
   "metadata": {},
   "source": [
    "## 1) Install requirements (run once if needed)"
   ]
  },
  {
   "cell_type": "code",
   "execution_count": 1,
   "id": "db15d996",
   "metadata": {},
   "outputs": [],
   "source": [
    "\n",
    "# If needed, install dependencies in your environment:\n",
    "# !pip install --upgrade pip\n",
    "# !pip install hydrofunctions pandas matplotlib\n"
   ]
  },
  {
   "cell_type": "markdown",
   "id": "628a85b7",
   "metadata": {},
   "source": [
    "## 2) Parameters"
   ]
  },
  {
   "cell_type": "code",
   "execution_count": 2,
   "id": "576ffb38",
   "metadata": {},
   "outputs": [],
   "source": [
    "\n",
    "SITE = \"05470500\"               # USGS site number\n",
    "START = \"2001-01-01\"            # inclusive\n",
    "END   = \"2023-12-31\"            # inclusive\n",
    "\n",
    "# Output filename (saved in the current working directory by default)\n",
    "OUT_CSV = f\"usgs_{SITE}_{START}_to_{END}.csv\"\n"
   ]
  },
  {
   "cell_type": "markdown",
   "id": "3da9a2fa",
   "metadata": {},
   "source": [
    "## 3) Imports"
   ]
  },
  {
   "cell_type": "code",
   "execution_count": 3,
   "id": "11ccea54",
   "metadata": {},
   "outputs": [],
   "source": [
    "\n",
    "import pandas as pd\n",
    "import matplotlib.pyplot as plt\n",
    "\n",
    "# hydrofunctions for NWIS access\n",
    "import hydrofunctions as hf\n",
    "\n",
    "pd.set_option(\"display.max_rows\", 8)\n"
   ]
  },
  {
   "cell_type": "markdown",
   "id": "a1599318",
   "metadata": {},
   "source": [
    "## 4) Fetch USGS daily values (discharge)"
   ]
  },
  {
   "cell_type": "code",
   "execution_count": 6,
   "id": "da7ec128",
   "metadata": {},
   "outputs": [],
   "source": [
    "\n",
    "def fetch_usgs_daily(site: str, start: str, end: str) -> pd.DataFrame:\n",
    "    \"\"\"\n",
    "    Fetch mean daily discharge (00060, stat 00003) from NWIS 'dv' service via hydrofunctions.\n",
    "    Returns a DataFrame with Date index and columns: Discharge_cfs, Discharge_m3s.\n",
    "    \"\"\"\n",
    "    # Request daily values (dv) for discharge (00060) with mean statistic (00003)\n",
    "    req = hf.NWIS(site, service='dv', start_date=start, end_date=end, parameterCd='00060')\n",
    "    df = req.df()  # index is datetime\n",
    "    df.index = pd.to_datetime(df.index, errors='coerce')\n",
    "    df = df.sort_index()\n",
    "\n",
    "    # Robustly locate the discharge column: USGS:<site>:00060:00003\n",
    "    col = None\n",
    "    for c in df.columns:\n",
    "        if f\":{site}:\" in c and \":00060:\" in c and c.endswith(\":00003\"):\n",
    "            col = c\n",
    "            break\n",
    "    if col is None:\n",
    "        # Fallback: any 00060 column\n",
    "        candidates = [c for c in df.columns if \":00060:\" in c]\n",
    "        if candidates:\n",
    "            col = candidates[0]\n",
    "        else:\n",
    "            raise RuntimeError(f\"No discharge (00060) column found in NWIS response. Columns: {list(df.columns)}\")\n",
    "\n",
    "    out = pd.DataFrame(index=df.index)\n",
    "    out[\"Discharge_cfs\"] = pd.to_numeric(df[col], errors=\"coerce\")\n",
    "    out[\"Discharge_m3s\"] = out[\"Discharge_cfs\"] * 0.0283168  # ft^3/s -> m^3/s\n",
    "    out = out.dropna(how=\"all\")\n",
    "    out.index.name = \"Date\"\n",
    "    return out\n"
   ]
  },
  {
   "cell_type": "markdown",
   "id": "376f85a6",
   "metadata": {},
   "source": [
    "## 5) Run the download"
   ]
  },
  {
   "cell_type": "code",
   "execution_count": 7,
   "id": "3b1ecb2b",
   "metadata": {},
   "outputs": [
    {
     "name": "stdout",
     "output_type": "stream",
     "text": [
      "Requested data from https://waterservices.usgs.gov/nwis/dv/?format=json%2C1.1&sites=05470500&parameterCd=00060&startDT=2001-01-01&endDT=2023-12-31\n"
     ]
    },
    {
     "data": {
      "text/html": [
       "<div>\n",
       "<style scoped>\n",
       "    .dataframe tbody tr th:only-of-type {\n",
       "        vertical-align: middle;\n",
       "    }\n",
       "\n",
       "    .dataframe tbody tr th {\n",
       "        vertical-align: top;\n",
       "    }\n",
       "\n",
       "    .dataframe thead th {\n",
       "        text-align: right;\n",
       "    }\n",
       "</style>\n",
       "<table border=\"1\" class=\"dataframe\">\n",
       "  <thead>\n",
       "    <tr style=\"text-align: right;\">\n",
       "      <th></th>\n",
       "      <th>Discharge_cfs</th>\n",
       "      <th>Discharge_m3s</th>\n",
       "    </tr>\n",
       "    <tr>\n",
       "      <th>Date</th>\n",
       "      <th></th>\n",
       "      <th></th>\n",
       "    </tr>\n",
       "  </thead>\n",
       "  <tbody>\n",
       "    <tr>\n",
       "      <th>2001-01-01 00:00:00+00:00</th>\n",
       "      <td>0.00</td>\n",
       "      <td>0.000000</td>\n",
       "    </tr>\n",
       "    <tr>\n",
       "      <th>2001-01-02 00:00:00+00:00</th>\n",
       "      <td>0.00</td>\n",
       "      <td>0.000000</td>\n",
       "    </tr>\n",
       "    <tr>\n",
       "      <th>2001-01-03 00:00:00+00:00</th>\n",
       "      <td>0.14</td>\n",
       "      <td>0.003964</td>\n",
       "    </tr>\n",
       "    <tr>\n",
       "      <th>2001-01-04 00:00:00+00:00</th>\n",
       "      <td>0.16</td>\n",
       "      <td>0.004531</td>\n",
       "    </tr>\n",
       "    <tr>\n",
       "      <th>2001-01-05 00:00:00+00:00</th>\n",
       "      <td>0.22</td>\n",
       "      <td>0.006230</td>\n",
       "    </tr>\n",
       "  </tbody>\n",
       "</table>\n",
       "</div>"
      ],
      "text/plain": [
       "                           Discharge_cfs  Discharge_m3s\n",
       "Date                                                   \n",
       "2001-01-01 00:00:00+00:00           0.00       0.000000\n",
       "2001-01-02 00:00:00+00:00           0.00       0.000000\n",
       "2001-01-03 00:00:00+00:00           0.14       0.003964\n",
       "2001-01-04 00:00:00+00:00           0.16       0.004531\n",
       "2001-01-05 00:00:00+00:00           0.22       0.006230"
      ]
     },
     "execution_count": 7,
     "metadata": {},
     "output_type": "execute_result"
    }
   ],
   "source": [
    "\n",
    "flow_df = fetch_usgs_daily(SITE, START, END)\n",
    "flow_df.head()\n"
   ]
  },
  {
   "cell_type": "markdown",
   "id": "3ed422c2",
   "metadata": {},
   "source": [
    "## 6) Save to CSV"
   ]
  },
  {
   "cell_type": "code",
   "execution_count": 8,
   "id": "90843fa2",
   "metadata": {},
   "outputs": [
    {
     "name": "stdout",
     "output_type": "stream",
     "text": [
      "Saved 8,399 rows to usgs_05470500_2001-01-01_to_2023-12-31.csv\n"
     ]
    }
   ],
   "source": [
    "\n",
    "flow_df.to_csv(OUT_CSV, float_format=\"%.6f\")\n",
    "print(f\"Saved {len(flow_df):,} rows to {OUT_CSV}\")\n"
   ]
  },
  {
   "cell_type": "markdown",
   "id": "c1cc1220",
   "metadata": {},
   "source": [
    "## 7) Quick QA: Hydrograph"
   ]
  },
  {
   "cell_type": "code",
   "execution_count": 9,
   "id": "958ea8b3",
   "metadata": {},
   "outputs": [
    {
     "name": "stderr",
     "output_type": "stream",
     "text": [
      "C:\\Users\\adi10136\\AppData\\Local\\Temp\\ipykernel_40176\\1483925014.py:8: UserWarning: FigureCanvasAgg is non-interactive, and thus cannot be shown\n",
      "  plt.show()\n"
     ]
    }
   ],
   "source": [
    "\n",
    "plt.figure(figsize=(12, 4))\n",
    "plt.plot(flow_df.index, flow_df[\"Discharge_cfs\"], linewidth=0.8)\n",
    "plt.title(f\"USGS {SITE} — Daily Discharge (cfs): {START} to {END}\")\n",
    "plt.xlabel(\"Date\")\n",
    "plt.ylabel(\"Discharge (cfs)\")\n",
    "plt.grid(True)\n",
    "plt.tight_layout()\n",
    "plt.show()\n"
   ]
  },
  {
   "cell_type": "markdown",
   "id": "f1f89d32",
   "metadata": {},
   "source": [
    "## 8) Annual Summary (optional)"
   ]
  },
  {
   "cell_type": "code",
   "execution_count": 10,
   "id": "21ad2081",
   "metadata": {},
   "outputs": [
    {
     "data": {
      "text/html": [
       "<div>\n",
       "<style scoped>\n",
       "    .dataframe tbody tr th:only-of-type {\n",
       "        vertical-align: middle;\n",
       "    }\n",
       "\n",
       "    .dataframe tbody tr th {\n",
       "        vertical-align: top;\n",
       "    }\n",
       "\n",
       "    .dataframe thead th {\n",
       "        text-align: right;\n",
       "    }\n",
       "</style>\n",
       "<table border=\"1\" class=\"dataframe\">\n",
       "  <thead>\n",
       "    <tr style=\"text-align: right;\">\n",
       "      <th></th>\n",
       "      <th>mean_cfs</th>\n",
       "      <th>median_cfs</th>\n",
       "      <th>max_cfs</th>\n",
       "      <th>mean_m3s</th>\n",
       "    </tr>\n",
       "    <tr>\n",
       "      <th>Year</th>\n",
       "      <th></th>\n",
       "      <th></th>\n",
       "      <th></th>\n",
       "      <th></th>\n",
       "    </tr>\n",
       "  </thead>\n",
       "  <tbody>\n",
       "    <tr>\n",
       "      <th>2001</th>\n",
       "      <td>95.095671</td>\n",
       "      <td>23.00</td>\n",
       "      <td>1070.0</td>\n",
       "      <td>2.692805</td>\n",
       "    </tr>\n",
       "    <tr>\n",
       "      <th>2002</th>\n",
       "      <td>57.741068</td>\n",
       "      <td>27.00</td>\n",
       "      <td>830.0</td>\n",
       "      <td>1.635042</td>\n",
       "    </tr>\n",
       "    <tr>\n",
       "      <th>2003</th>\n",
       "      <td>103.783205</td>\n",
       "      <td>10.90</td>\n",
       "      <td>2160.0</td>\n",
       "      <td>2.938808</td>\n",
       "    </tr>\n",
       "    <tr>\n",
       "      <th>2004</th>\n",
       "      <td>138.561694</td>\n",
       "      <td>27.80</td>\n",
       "      <td>1960.0</td>\n",
       "      <td>3.923624</td>\n",
       "    </tr>\n",
       "    <tr>\n",
       "      <th>...</th>\n",
       "      <td>...</td>\n",
       "      <td>...</td>\n",
       "      <td>...</td>\n",
       "      <td>...</td>\n",
       "    </tr>\n",
       "    <tr>\n",
       "      <th>2020</th>\n",
       "      <td>105.190519</td>\n",
       "      <td>54.85</td>\n",
       "      <td>1730.0</td>\n",
       "      <td>2.978659</td>\n",
       "    </tr>\n",
       "    <tr>\n",
       "      <th>2021</th>\n",
       "      <td>33.121123</td>\n",
       "      <td>19.80</td>\n",
       "      <td>294.0</td>\n",
       "      <td>0.937884</td>\n",
       "    </tr>\n",
       "    <tr>\n",
       "      <th>2022</th>\n",
       "      <td>96.727425</td>\n",
       "      <td>10.50</td>\n",
       "      <td>3180.0</td>\n",
       "      <td>2.739011</td>\n",
       "    </tr>\n",
       "    <tr>\n",
       "      <th>2023</th>\n",
       "      <td>77.367151</td>\n",
       "      <td>37.10</td>\n",
       "      <td>2370.0</td>\n",
       "      <td>2.190790</td>\n",
       "    </tr>\n",
       "  </tbody>\n",
       "</table>\n",
       "<p>23 rows × 4 columns</p>\n",
       "</div>"
      ],
      "text/plain": [
       "        mean_cfs  median_cfs  max_cfs  mean_m3s\n",
       "Year                                           \n",
       "2001   95.095671       23.00   1070.0  2.692805\n",
       "2002   57.741068       27.00    830.0  1.635042\n",
       "2003  103.783205       10.90   2160.0  2.938808\n",
       "2004  138.561694       27.80   1960.0  3.923624\n",
       "...          ...         ...      ...       ...\n",
       "2020  105.190519       54.85   1730.0  2.978659\n",
       "2021   33.121123       19.80    294.0  0.937884\n",
       "2022   96.727425       10.50   3180.0  2.739011\n",
       "2023   77.367151       37.10   2370.0  2.190790\n",
       "\n",
       "[23 rows x 4 columns]"
      ]
     },
     "execution_count": 10,
     "metadata": {},
     "output_type": "execute_result"
    }
   ],
   "source": [
    "\n",
    "annual = (\n",
    "    flow_df\n",
    "    .assign(Year=flow_df.index.year)\n",
    "    .groupby(\"Year\")\n",
    "    .agg(\n",
    "        mean_cfs = (\"Discharge_cfs\", \"mean\"),\n",
    "        median_cfs = (\"Discharge_cfs\", \"median\"),\n",
    "        max_cfs = (\"Discharge_cfs\", \"max\"),\n",
    "        mean_m3s = (\"Discharge_m3s\", \"mean\"),\n",
    "    )\n",
    ")\n",
    "annual\n"
   ]
  },
  {
   "cell_type": "markdown",
   "id": "7fe55032",
   "metadata": {},
   "source": [
    "\n",
    "## 9) Notes\n",
    "- **Service**: NWIS Daily Values (`dv`) via `hydrofunctions`.\n",
    "- **Parameter**: `00060` (discharge); **Statistic**: `00003` (mean daily).\n",
    "- **Time zone**: NWIS data are typically in local time; daily values are calendar days.\n",
    "- **Gaps**: If the site has gaps or provisional data, you'll see `NaN`s; handle as needed.\n",
    "- **Licensing**: USGS data are public domain; please cite NWIS appropriately in publications.\n"
   ]
  },
  {
   "cell_type": "markdown",
   "id": "60b4769f",
   "metadata": {},
   "source": []
  },
  {
   "cell_type": "markdown",
   "id": "8f15a1b9",
   "metadata": {},
   "source": []
  }
 ],
 "metadata": {
  "kernelspec": {
   "display_name": "CONUS404_test",
   "language": "python",
   "name": "python3"
  },
  "language_info": {
   "codemirror_mode": {
    "name": "ipython",
    "version": 3
   },
   "file_extension": ".py",
   "mimetype": "text/x-python",
   "name": "python",
   "nbconvert_exporter": "python",
   "pygments_lexer": "ipython3",
   "version": "3.10.16"
  }
 },
 "nbformat": 4,
 "nbformat_minor": 5
}
