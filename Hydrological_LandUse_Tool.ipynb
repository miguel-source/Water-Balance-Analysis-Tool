{
 "cells": [
  {
   "cell_type": "markdown",
   "id": "4c49e24d",
   "metadata": {},
   "source": [
    "\n",
    "# ET & Precipitation by Land Use (CDL) — Google Earth Engine\n",
    "\n",
    "This notebook estimates **evapotranspiration (ET)** and **precipitation (P)** by **land-use classes** using:\n",
    "- **OpenET/ENSEMBLE/CONUS/GRIDMET/MONTHLY/v2_0** (ET, mm)\n",
    "- **IDAHO_EPSCOR/GRIDMET** (precipitation, mm)\n",
    "- **USDA/NASS/CDL** (land cover/land use; 2008+) (Cropland Data Layer)\n",
    "\n",
    "It writes a CSV and generates QA plots for quick checks.\n"
   ]
  },
  {
   "cell_type": "markdown",
   "id": "f0e49278",
   "metadata": {},
   "source": [
    "## 1) Requirements"
   ]
  },
  {
   "cell_type": "code",
   "execution_count": 1,
   "id": "95bbb2f6",
   "metadata": {},
   "outputs": [],
   "source": [
    "\n",
    "# If needed in a fresh environment, run:\n",
    "# !pip install --upgrade pip\n",
    "# !pip install earthengine-api geopandas shapely fiona pandas matplotlib\n",
    "#\n",
    "# Note: Installing GDAL/GEOS/PROJ for GeoPandas may require system packages.\n"
   ]
  },
  {
   "cell_type": "markdown",
   "id": "ea7194f4",
   "metadata": {},
   "source": [
    "## 2) Authenticate & Initialize Earth Engine"
   ]
  },
  {
   "cell_type": "code",
   "execution_count": null,
   "id": "7610e669",
   "metadata": {},
   "outputs": [
    {
     "name": "stdout",
     "output_type": "stream",
     "text": [
      "Earth Engine initialized.\n"
     ]
    }
   ],
   "source": [
    "\n",
    "import ee\n",
    "\n",
    "EE_PROJECT = 'ee-your-project-id'  # e.g., 'ee-mikediastat' (optional)\n",
    "\n",
    "try:\n",
    "    ee.Initialize(project=EE_PROJECT)\n",
    "except Exception:\n",
    "    ee.Authenticate()\n",
    "    ee.Initialize(project=EE_PROJECT)\n",
    "\n",
    "print(\"Earth Engine initialized.\")\n"
   ]
  },
  {
   "cell_type": "markdown",
   "id": "91043c6a",
   "metadata": {},
   "source": [
    "## 3) Parameters"
   ]
  },
  {
   "cell_type": "code",
   "execution_count": 4,
   "id": "173e9a9f",
   "metadata": {},
   "outputs": [],
   "source": [
    "\n",
    "from pathlib import Path\n",
    "\n",
    "USE_IOWA_STATE = True  # If False, use SHP_PATH below\n",
    "SHP_PATH = Path(r\"C:/Users/adi10136/OneDrive - Iowa State University/Desktop/Runoff Analysis/Shp/Ioway Creek/layers/globalwatershed.shp\")\n",
    "\n",
    "OUT_DIR = Path(\"PAPER_CALCULATION_ET\")\n",
    "OUT_DIR.mkdir(parents=True, exist_ok=True)\n",
    "CSV_PATH = OUT_DIR / \"Iowa_ET_P_by_LandUse.csv\"\n",
    "\n",
    "START_YEAR = 2000\n",
    "END_YEAR   = 2023\n",
    "SKIP_LU_BEFORE_2008 = True\n",
    "SCALE = 30\n",
    "\n",
    "LAND_USE_CLASSES = {\n",
    "    176: \"Grassland/Pasture\",\n",
    "    5:   \"Soybeans\",\n",
    "    1:   \"Corn\",\n",
    "    36:  \"Alfalfa\",\n",
    "    141: \"Deciduous Forest\",\n",
    "}\n",
    "URBAN_CODES = [121, 122, 123, 124]\n"
   ]
  },
  {
   "cell_type": "markdown",
   "id": "69c0ed67",
   "metadata": {},
   "source": [
    "## 4) Build Region of Interest (ROI)"
   ]
  },
  {
   "cell_type": "code",
   "execution_count": 5,
   "id": "f2f0b707",
   "metadata": {},
   "outputs": [
    {
     "name": "stdout",
     "output_type": "stream",
     "text": [
      "ROI ready.\n"
     ]
    }
   ],
   "source": [
    "\n",
    "import geopandas as gpd\n",
    "\n",
    "def build_roi():\n",
    "    if USE_IOWA_STATE:\n",
    "        states = ee.FeatureCollection(\"TIGER/2018/States\")\n",
    "        iowa = states.filter(ee.Filter.eq('NAME', 'Iowa'))\n",
    "        return iowa.geometry()\n",
    "    else:\n",
    "        gdf = gpd.read_file(SHP_PATH).to_crs(epsg=4326)\n",
    "        geom = gdf.geometry.iloc[0]\n",
    "        if geom.geom_type == 'MultiPolygon':\n",
    "            geom = list(geom.geoms)[0]\n",
    "        coords = list(geom.exterior.coords)\n",
    "        return ee.Geometry.Polygon([coords])\n",
    "\n",
    "ROI = build_roi()\n",
    "print(\"ROI ready.\")\n"
   ]
  },
  {
   "cell_type": "markdown",
   "id": "539038cd",
   "metadata": {},
   "source": [
    "## 5) Helper functions"
   ]
  },
  {
   "cell_type": "code",
   "execution_count": 6,
   "id": "a62bd70f",
   "metadata": {},
   "outputs": [],
   "source": [
    "\n",
    "def get_cdl_image(year: int):\n",
    "    ic = ee.ImageCollection(\"USDA/NASS/CDL\").filterDate(f\"{year}-01-01\", f\"{year}-12-31\")\n",
    "    return ic.first()\n",
    "\n",
    "def select_cdl_band(img):\n",
    "    try:\n",
    "        return img.select(\"cropland\")\n",
    "    except Exception:\n",
    "        return img.select(\"landcover\")\n",
    "\n",
    "def cdl_mask(img, code):\n",
    "    return select_cdl_band(img).eq(code)\n",
    "\n",
    "def union_mask(img, codes):\n",
    "    m = None\n",
    "    for c in codes:\n",
    "        cm = select_cdl_band(img).eq(c)\n",
    "        m = cm if m is None else m.Or(cm)\n",
    "    return m\n",
    "\n",
    "def reduce_mean(image, geom, scale=SCALE):\n",
    "    return image.reduceRegion(\n",
    "        reducer=ee.Reducer.mean(),\n",
    "        geometry=geom,\n",
    "        scale=scale,\n",
    "        bestEffort=True,\n",
    "        maxPixels=1e13\n",
    "    )\n",
    "\n",
    "def masked_mean(image, mask, geom, scale=SCALE):\n",
    "    return reduce_mean(image.updateMask(mask), geom, scale)\n",
    "\n",
    "def masked_area_m2(mask, geom, scale=SCALE):\n",
    "    area_img = ee.Image.pixelArea().updateMask(mask)\n",
    "    return area_img.reduceRegion(\n",
    "        reducer=ee.Reducer.sum(),\n",
    "        geometry=geom,\n",
    "        scale=scale,\n",
    "        bestEffort=True,\n",
    "        maxPixels=1e13\n",
    "    ).get(\"area\")\n",
    "\n",
    "def safe_get(ee_obj, default=None):\n",
    "    try:\n",
    "        return ee_obj.getInfo()\n",
    "    except Exception:\n",
    "        return default\n"
   ]
  },
  {
   "cell_type": "markdown",
   "id": "853e0036",
   "metadata": {},
   "source": [
    "## 6) Compute ET & P by land use and write CSV (water years)"
   ]
  },
  {
   "cell_type": "code",
   "execution_count": null,
   "id": "f3df6ed0",
   "metadata": {},
   "outputs": [
    {
     "name": "stdout",
     "output_type": "stream",
     "text": [
      "Processing 2000 ...\n"
     ]
    }
   ],
   "source": [
    "\n",
    "import csv\n",
    "\n",
    "with open(CSV_PATH, mode='w', newline='') as f:\n",
    "    writer = csv.writer(f)\n",
    "    writer.writerow([\n",
    "        \"Year\", \"Land_Use_Code\", \"Land_Use_Label\", \"Land_Use_Area_m2\",\n",
    "        \"Mean_ET_Watershed\", \"Mean_ET_Land_Use\",\n",
    "        \"Mean_Precip_Watershed\", \"Mean_Precip_Land_Use\",\n",
    "        \"P_minus_ET\", \"ET_over_P\"\n",
    "    ])\n",
    "\n",
    "for year in range(START_YEAR, END_YEAR + 1):\n",
    "    print(f\"Processing {year} ...\")\n",
    "    start_wy = f\"{year-1}-10-01\"\n",
    "    end_wy   = f\"{year}-09-30\"\n",
    "\n",
    "    et_sum = ee.ImageCollection('OpenET/ENSEMBLE/CONUS/GRIDMET/MONTHLY/v2_0')\\\n",
    "                .filterDate(start_wy, end_wy)\\\n",
    "                .select('et_ensemble_mad')\\\n",
    "                .sum()\n",
    "\n",
    "    pr_sum = ee.ImageCollection('IDAHO_EPSCOR/GRIDMET')\\\n",
    "                .filterDate(start_wy, end_wy)\\\n",
    "                .select('pr')\\\n",
    "                .sum()\n",
    "\n",
    "    et_roi_mean = safe_get(reduce_mean(et_sum, ROI).get('et_ensemble_mad'))\n",
    "    pr_roi_mean = safe_get(reduce_mean(pr_sum, ROI).get('pr'))\n",
    "\n",
    "    cdl = get_cdl_image(year)\n",
    "    has_cdl = False\n",
    "    try:\n",
    "        _ = select_cdl_band(cdl)\n",
    "        has_cdl = True\n",
    "    except Exception:\n",
    "        has_cdl = False\n",
    "\n",
    "    if SKIP_LU_BEFORE_2008 and (not has_cdl):\n",
    "        print(f\"  Skipping land-use breakdown for {year} (CDL not available).\" )\n",
    "        continue\n",
    "\n",
    "    rows = []\n",
    "    for code, label in LAND_USE_CLASSES.items():\n",
    "        m = cdl_mask(cdl, code)\n",
    "        area_m2 = safe_get(masked_area_m2(m, ROI), 0.0) or 0.0\n",
    "        et_lu = safe_get(masked_mean(et_sum, m, ROI).get('et_ensemble_mad'))\n",
    "        pr_lu = safe_get(masked_mean(pr_sum, m, ROI).get('pr'))\n",
    "        p_minus_et = (pr_lu - et_lu) if (et_lu is not None and pr_lu is not None) else None\n",
    "        et_over_p  = (et_lu / pr_lu) if (et_lu is not None and pr_lu not in (None, 0)) else None\n",
    "        rows.append([year, code, label, area_m2, et_roi_mean, et_lu, pr_roi_mean, pr_lu, p_minus_et, et_over_p])\n",
    "\n",
    "    m_urban = union_mask(cdl, URBAN_CODES)\n",
    "    area_urb = safe_get(masked_area_m2(m_urban, ROI), 0.0) or 0.0\n",
    "    et_urb = safe_get(masked_mean(et_sum, m_urban, ROI).get('et_ensemble_mad'))\n",
    "    pr_urb = safe_get(masked_mean(pr_sum, m_urban, ROI).get('pr'))\n",
    "    p_minus_et_urb = (pr_urb - et_urb) if (et_urb is not None and pr_urb is not None) else None\n",
    "    et_over_p_urb  = (et_urb / pr_urb) if (et_urb is not None and pr_urb not in (None, 0)) else None\n",
    "    rows.append([year, 999, \"Urban (121–124)\", area_urb, et_roi_mean, et_urb, pr_roi_mean, pr_urb, p_minus_et_urb, et_over_p_urb])\n",
    "\n",
    "    with open(CSV_PATH, mode='a', newline='') as f:\n",
    "        writer = csv.writer(f)\n",
    "        writer.writerows(rows)\n",
    "\n",
    "print(\"Done. Wrote:\", CSV_PATH)\n"
   ]
  },
  {
   "cell_type": "markdown",
   "id": "2229add2",
   "metadata": {},
   "source": [
    "## 7) Load CSV and Quick QA Plots"
   ]
  },
  {
   "cell_type": "code",
   "execution_count": null,
   "id": "b3578584",
   "metadata": {},
   "outputs": [],
   "source": [
    "\n",
    "import pandas as pd\n",
    "import matplotlib.pyplot as plt\n",
    "\n",
    "df = pd.read_csv(CSV_PATH)\n",
    "df = df.dropna(subset=[\"Mean_ET_Land_Use\", \"Mean_Precip_Land_Use\"])\n",
    "df[\"Year\"] = df[\"Year\"].astype(int)\n",
    "\n",
    "pet = df.pivot_table(index=\"Year\", columns=\"Land_Use_Label\", values=\"P_minus_ET\", aggfunc=\"mean\")\n",
    "etp = df.pivot_table(index=\"Year\", columns=\"Land_Use_Label\", values=\"ET_over_P\",  aggfunc=\"mean\")\n",
    "et  = df.pivot_table(index=\"Year\", columns=\"Land_Use_Label\", values=\"Mean_ET_Land_Use\", aggfunc=\"mean\")\n",
    "pr  = df.pivot_table(index=\"Year\", columns=\"Land_Use_Label\", values=\"Mean_Precip_Land_Use\", aggfunc=\"mean\")\n",
    "\n",
    "for title,table,ylabel in [\n",
    "    (\"P − ET by Land Use\", pet, \"P − ET (mm)\"),\n",
    "    (\"ET / P by Land Use\", etp, \"ET / P (ratio)\"),\n",
    "    (\"ET by Land Use\", et, \"ET (mm)\"),\n",
    "    (\"Precipitation by Land Use\", pr, \"P (mm)\"),\n",
    "]:\n",
    "    plt.figure(figsize=(10,4))\n",
    "    for col in table.columns:\n",
    "        plt.plot(table.index, table[col], label=col, linewidth=1)\n",
    "    plt.title(title); plt.xlabel(\"Year\"); plt.ylabel(ylabel)\n",
    "    plt.legend(loc=\"best\", fontsize=8); plt.grid(True); plt.tight_layout(); plt.show()\n"
   ]
  },
  {
   "cell_type": "markdown",
   "id": "df7f3a87",
   "metadata": {},
   "source": [
    "\n",
    "## 8) Notes\n",
    "- **Units**: GRIDMET `pr` and OpenET `et_ensemble_mad` are in **mm**. Thus `P_minus_ET` is also in mm.\n",
    "- **CDL**: Available **from 2008 onward**. If you set `SKIP_LU_BEFORE_2008=True`, the code skips LU rows for earlier years.\n",
    "- **Water Year**: Oct 1 (prev year) → Sep 30 (current year).\n",
    "- **ROI area**: Class area is computed via `pixelArea()` over the mask within the ROI.\n",
    "- **Performance**: For large ROIs or many years/classes, consider increasing `SCALE` (e.g., 250–1000) to reduce EE compute.\n",
    "- **Custom ROI**: Toggle `USE_IOWA_STATE=False` and set `SHP_PATH` to your watershed polygon.\n",
    "- **Reproducibility**: Reproducibility is authorized under the repository and appropriate citation.\n"
   ]
  },
  {
   "cell_type": "markdown",
   "id": "bb81633f",
   "metadata": {},
   "source": []
  },
  {
   "cell_type": "markdown",
   "id": "404fe5f8",
   "metadata": {},
   "source": [
    "\n"
   ]
  }
 ],
 "metadata": {
  "kernelspec": {
   "display_name": "CONUS404_test",
   "language": "python",
   "name": "python3"
  },
  "language_info": {
   "codemirror_mode": {
    "name": "ipython",
    "version": 3
   },
   "file_extension": ".py",
   "mimetype": "text/x-python",
   "name": "python",
   "nbconvert_exporter": "python",
   "pygments_lexer": "ipython3",
   "version": "3.10.16"
  }
 },
 "nbformat": 4,
 "nbformat_minor": 5
}
